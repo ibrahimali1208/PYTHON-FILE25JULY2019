{
 "cells": [
  {
   "cell_type": "code",
   "execution_count": 5,
   "metadata": {},
   "outputs": [
    {
     "name": "stdout",
     "output_type": "stream",
     "text": [
      "    name  Age\n",
      "0    Tom   20\n",
      "1   Nick   21\n",
      "2  Krsih   22\n",
      "3   dick   23\n",
      "4  harry   24\n",
      "5    ali   25\n"
     ]
    }
   ],
   "source": [
    "import pandas as pd\n",
    "import numpy as np\n",
    "data={'name':['Tom','Nick','Krsih','dick','harry','ali'],'Age':[20,21,22,23,24,25]}\n",
    "df=pd.DataFrame(data)\n",
    "print(df)"
   ]
  },
  {
   "cell_type": "code",
   "execution_count": 16,
   "metadata": {},
   "outputs": [
    {
     "ename": "FileNotFoundError",
     "evalue": "[Errno 2] No such file or directory: 'ali99.csv'",
     "output_type": "error",
     "traceback": [
      "\u001b[1;31m---------------------------------------------------------------------------\u001b[0m",
      "\u001b[1;31mFileNotFoundError\u001b[0m                         Traceback (most recent call last)",
      "\u001b[1;32m<ipython-input-16-7defcd43c365>\u001b[0m in \u001b[0;36m<module>\u001b[1;34m\u001b[0m\n\u001b[0;32m      1\u001b[0m \u001b[1;33m\u001b[0m\u001b[0m\n\u001b[1;32m----> 2\u001b[1;33m \u001b[0mf\u001b[0m \u001b[1;33m=\u001b[0m \u001b[0mopen\u001b[0m\u001b[1;33m(\u001b[0m\u001b[1;34m\"ali99.csv\"\u001b[0m\u001b[1;33m,\u001b[0m\u001b[0mencoding\u001b[0m \u001b[1;33m=\u001b[0m \u001b[1;34m'utf-8'\u001b[0m\u001b[1;33m)\u001b[0m\u001b[1;33m\u001b[0m\u001b[1;33m\u001b[0m\u001b[0m\n\u001b[0m\u001b[0;32m      3\u001b[0m \u001b[0mdata\u001b[0m\u001b[1;33m=\u001b[0m\u001b[1;33m{\u001b[0m\u001b[1;34m'name'\u001b[0m\u001b[1;33m:\u001b[0m\u001b[1;33m[\u001b[0m\u001b[1;34m'Tom'\u001b[0m\u001b[1;33m,\u001b[0m\u001b[1;34m'Nick'\u001b[0m\u001b[1;33m,\u001b[0m\u001b[1;34m'Krsih'\u001b[0m\u001b[1;33m,\u001b[0m\u001b[1;34m'dick'\u001b[0m\u001b[1;33m,\u001b[0m\u001b[1;34m'harry'\u001b[0m\u001b[1;33m,\u001b[0m\u001b[1;34m'ali'\u001b[0m\u001b[1;33m]\u001b[0m\u001b[1;33m,\u001b[0m\u001b[1;34m'Age'\u001b[0m\u001b[1;33m:\u001b[0m\u001b[1;33m[\u001b[0m\u001b[1;36m20\u001b[0m\u001b[1;33m,\u001b[0m\u001b[1;36m21\u001b[0m\u001b[1;33m,\u001b[0m\u001b[1;36m22\u001b[0m\u001b[1;33m,\u001b[0m\u001b[1;36m23\u001b[0m\u001b[1;33m,\u001b[0m\u001b[1;36m24\u001b[0m\u001b[1;33m,\u001b[0m\u001b[1;36m25\u001b[0m\u001b[1;33m]\u001b[0m\u001b[1;33m}\u001b[0m\u001b[1;33m\u001b[0m\u001b[1;33m\u001b[0m\u001b[0m\n\u001b[0;32m      4\u001b[0m \u001b[0mdf\u001b[0m\u001b[1;33m=\u001b[0m\u001b[0mpd\u001b[0m\u001b[1;33m.\u001b[0m\u001b[0mDataFrame\u001b[0m\u001b[1;33m(\u001b[0m\u001b[0mdata\u001b[0m\u001b[1;33m)\u001b[0m\u001b[1;33m\u001b[0m\u001b[1;33m\u001b[0m\u001b[0m\n\u001b[0;32m      5\u001b[0m \u001b[0mprint\u001b[0m\u001b[1;33m(\u001b[0m\u001b[0mdf\u001b[0m\u001b[1;33m)\u001b[0m\u001b[1;33m\u001b[0m\u001b[1;33m\u001b[0m\u001b[0m\n",
      "\u001b[1;31mFileNotFoundError\u001b[0m: [Errno 2] No such file or directory: 'ali99.csv'"
     ]
    }
   ],
   "source": [
    "\n",
    "f = open(\"ali99.csv\",encoding = 'utf-8')\n",
    "data={'name':['Tom','Nick','Krsih','dick','harry','ali'],'Age':[20,21,22,23,24,25]}\n",
    "df=pd.DataFrame(data)\n",
    "print(df)\n",
    "f.close()"
   ]
  },
  {
   "cell_type": "code",
   "execution_count": 11,
   "metadata": {},
   "outputs": [
    {
     "name": "stdout",
     "output_type": "stream",
     "text": [
      "            Brand  Price\n",
      "0     Honda Civic  22000\n",
      "1  Toyota Corolla  25000\n",
      "2      Ford Focus  27000\n",
      "3         Audi A4  35000\n"
     ]
    }
   ],
   "source": [
    "from pandas import DataFrame\n",
    "\n",
    "Cars = {'Brand': ['Honda Civic','Toyota Corolla','Ford Focus','Audi A4'],\n",
    "        'Price': [22000,25000,27000,35000]\n",
    "        }\n",
    "\n",
    "df = DataFrame(Cars, columns= ['Brand', 'Price'])\n",
    "\n",
    "export_csv = df.to_csv (r'C:\\\\Users\\\\user\\\\export_dataframe.csv', index = None, header=True) #Don't forget to add '.csv' at the end of the path\n",
    "\n",
    "print (df)"
   ]
  },
  {
   "cell_type": "code",
   "execution_count": 10,
   "metadata": {},
   "outputs": [
    {
     "data": {
      "text/plain": [
       "'C:\\\\Users\\\\user'"
      ]
     },
     "execution_count": 10,
     "metadata": {},
     "output_type": "execute_result"
    }
   ],
   "source": [
    "pwd"
   ]
  },
  {
   "cell_type": "code",
   "execution_count": 12,
   "metadata": {},
   "outputs": [],
   "source": [
    "df = pd.read_csv(r'C:\\Users\\user\\Downloads\\spreadsheet Operations.csv')"
   ]
  },
  {
   "cell_type": "code",
   "execution_count": 13,
   "metadata": {},
   "outputs": [
    {
     "name": "stdout",
     "output_type": "stream",
     "text": [
      "    Roll Number  internal 1(25)  internal 2 (25)  external (75)  \\\n",
      "0   123456789.0            16.0             16.0           55.0   \n",
      "1   123456790.0            14.0             11.0           57.0   \n",
      "2   123456791.0            14.0             18.0           53.0   \n",
      "3   123456792.0            18.0             10.0           55.0   \n",
      "4   123456793.0            18.0             12.0           46.0   \n",
      "5   123456794.0            15.0             19.0           45.0   \n",
      "6   123456795.0            19.0             11.0           56.0   \n",
      "7   123456796.0            20.0             12.0           55.0   \n",
      "8   123456797.0            17.0             19.0           47.0   \n",
      "9   123456798.0            19.0             17.0           59.0   \n",
      "10  123456799.0            20.0             13.0           55.0   \n",
      "11  123456800.0            14.0             11.0           55.0   \n",
      "12  123456801.0            16.0             11.0           47.0   \n",
      "13  123456802.0            16.0             18.0           59.0   \n",
      "14  123456803.0            20.0             16.0           50.0   \n",
      "15  123456804.0            17.0             15.0           42.0   \n",
      "16  123456805.0            17.0             16.0           52.0   \n",
      "17  123456806.0            15.0             17.0           55.0   \n",
      "18  123456807.0            16.0             20.0           49.0   \n",
      "19          NaN             NaN              NaN            NaN   \n",
      "20          NaN             NaN              NaN            NaN   \n",
      "21          NaN             NaN              NaN            NaN   \n",
      "22          NaN             NaN              NaN            NaN   \n",
      "23          NaN             NaN              NaN            NaN   \n",
      "24          NaN             NaN              NaN            NaN   \n",
      "25          NaN             NaN              NaN            NaN   \n",
      "26          NaN             NaN              NaN            NaN   \n",
      "27          NaN             NaN              NaN            NaN   \n",
      "\n",
      "   Avg(internal 1,internal 2)  total = Avg(internal 1+internal 2)  \\\n",
      "0                          16                           71.000000   \n",
      "1                        12.5                           69.500000   \n",
      "2                          16                           69.000000   \n",
      "3                          14                           69.000000   \n",
      "4                          15                           61.000000   \n",
      "5                          17                           62.000000   \n",
      "6                          15                           71.000000   \n",
      "7                          16                           71.000000   \n",
      "8                          18                           65.000000   \n",
      "9                          18                           77.000000   \n",
      "10                       16.5                           71.500000   \n",
      "11                       12.5                           67.500000   \n",
      "12                       13.5                           60.500000   \n",
      "13                         17                           76.000000   \n",
      "14                         18                           68.000000   \n",
      "15                         16                           58.000000   \n",
      "16                       16.5                           68.500000   \n",
      "17                         16                           71.000000   \n",
      "18                         18                           67.000000   \n",
      "19              TOTAL AVERAGE                           68.078947   \n",
      "20                        NaN                                 NaN   \n",
      "21                        NaN                                 NaN   \n",
      "22                        NaN                                 NaN   \n",
      "23                        NaN                                 NaN   \n",
      "24                        NaN                                 NaN   \n",
      "25                        NaN                                 NaN   \n",
      "26             max percentage                           77.000000   \n",
      "27         minimum percentage                           58.000000   \n",
      "\n",
      "    sub=(internal1-internal2)  mul=internal1*internal2  \\\n",
      "0                         0.0                    256.0   \n",
      "1                         3.0                    154.0   \n",
      "2                        -4.0                    252.0   \n",
      "3                         8.0                    180.0   \n",
      "4                         6.0                    216.0   \n",
      "5                        -4.0                    285.0   \n",
      "6                         8.0                    209.0   \n",
      "7                         8.0                    240.0   \n",
      "8                        -2.0                    323.0   \n",
      "9                         2.0                    323.0   \n",
      "10                        7.0                    260.0   \n",
      "11                        3.0                    154.0   \n",
      "12                        5.0                    176.0   \n",
      "13                       -2.0                    288.0   \n",
      "14                        4.0                    320.0   \n",
      "15                        2.0                    255.0   \n",
      "16                        1.0                    272.0   \n",
      "17                       -2.0                    255.0   \n",
      "18                       -4.0                    320.0   \n",
      "19                        NaN                      NaN   \n",
      "20                        NaN                      NaN   \n",
      "21                        NaN                      NaN   \n",
      "22                        NaN                      NaN   \n",
      "23                        NaN                      NaN   \n",
      "24                        NaN                      NaN   \n",
      "25                        NaN                      NaN   \n",
      "26                        NaN                      NaN   \n",
      "27                        NaN                      NaN   \n",
      "\n",
      "    div=internal1/internal2  median   mode   logrithm of internal1  \\\n",
      "0                  1.000000     16.0    0.0               1.204120   \n",
      "1                  1.272727     12.5    3.0               1.146128   \n",
      "2                  0.777778     16.0   14.0               1.146128   \n",
      "3                  1.800000     14.0    8.0               1.255273   \n",
      "4                  1.500000     15.0    6.0               1.255273   \n",
      "5                  0.789474     17.0   15.0               1.176091   \n",
      "6                  1.727273     15.0    8.0               1.278754   \n",
      "7                  1.666667     16.0    8.0               1.301030   \n",
      "8                  0.894737     18.0   17.0               1.230449   \n",
      "9                  1.117647     18.0    2.0               1.278754   \n",
      "10                 1.538462     16.5    7.0               1.301030   \n",
      "11                 1.272727     12.5    3.0               1.146128   \n",
      "12                 1.454545     13.5    5.0               1.204120   \n",
      "13                 0.888889     17.0   16.0               1.204120   \n",
      "14                 1.250000     18.0    4.0               1.301030   \n",
      "15                 1.133333     16.0    2.0               1.230449   \n",
      "16                 1.062500     16.5    1.0               1.230449   \n",
      "17                 0.882353     16.0   15.0               1.176091   \n",
      "18                 0.800000     18.0   16.0               1.204120   \n",
      "19                      NaN      NaN    NaN                    NaN   \n",
      "20                      NaN      NaN    NaN                    NaN   \n",
      "21                      NaN      NaN    NaN                    NaN   \n",
      "22                      NaN      NaN    NaN                    NaN   \n",
      "23                      NaN      NaN    NaN                    NaN   \n",
      "24                      NaN      NaN    NaN                    NaN   \n",
      "25                      NaN      NaN    NaN                    NaN   \n",
      "26                      NaN      NaN    NaN                    NaN   \n",
      "27                      NaN      NaN    NaN                    NaN   \n",
      "\n",
      "    logrithm of internal2  minimum  maximum  percentage    class  \n",
      "0                1.204120     16.0     16.0        71.0  #ERROR!  \n",
      "1                1.041393     11.0     14.0        69.5      NaN  \n",
      "2                1.255273     14.0     18.0        69.0      NaN  \n",
      "3                1.000000     10.0     18.0        69.0      NaN  \n",
      "4                1.079181     12.0     18.0        61.0      NaN  \n",
      "5                1.278754     15.0     19.0        62.0      NaN  \n",
      "6                1.041393     11.0     19.0        71.0      NaN  \n",
      "7                1.079181     12.0     20.0        71.0      NaN  \n",
      "8                1.278754     17.0     19.0        65.0      NaN  \n",
      "9                1.230449     17.0     19.0        77.0      NaN  \n",
      "10               1.113943     13.0     20.0        71.5      NaN  \n",
      "11               1.041393     11.0     14.0        67.5      NaN  \n",
      "12               1.041393     11.0     16.0        60.5      NaN  \n",
      "13               1.255273     16.0     18.0        76.0      NaN  \n",
      "14               1.204120     16.0     20.0        68.0      NaN  \n",
      "15               1.176091     15.0     17.0        58.0      NaN  \n",
      "16               1.204120     16.0     17.0        68.5      NaN  \n",
      "17               1.230449     15.0     17.0        71.0      NaN  \n",
      "18               1.301030     16.0     20.0        67.0      NaN  \n",
      "19                    NaN      NaN      NaN         NaN      NaN  \n",
      "20                    NaN      NaN      NaN         NaN      NaN  \n",
      "21                    NaN      NaN      NaN         NaN      NaN  \n",
      "22                    NaN      NaN      NaN         NaN      NaN  \n",
      "23                    NaN      NaN      NaN         NaN      NaN  \n",
      "24                    NaN      NaN      NaN         NaN      NaN  \n",
      "25                    NaN      NaN      NaN         NaN      NaN  \n",
      "26                    NaN      NaN      NaN         NaN      NaN  \n",
      "27                    NaN      NaN      NaN         NaN      NaN  \n"
     ]
    }
   ],
   "source": [
    "print(df)"
   ]
  },
  {
   "cell_type": "code",
   "execution_count": 14,
   "metadata": {},
   "outputs": [
    {
     "data": {
      "text/plain": [
       "Index(['Roll Number', 'internal 1(25)', 'internal 2 (25)', 'external (75)',\n",
       "       'Avg(internal 1,internal 2)', 'total = Avg(internal 1+internal 2)',\n",
       "       'sub=(internal1-internal2)', 'mul=internal1*internal2',\n",
       "       'div=internal1/internal2', 'median ', 'mode ', 'logrithm of internal1',\n",
       "       'logrithm of internal2', 'minimum', 'maximum', 'percentage', 'class'],\n",
       "      dtype='object')"
      ]
     },
     "execution_count": 14,
     "metadata": {},
     "output_type": "execute_result"
    }
   ],
   "source": [
    "df.columns"
   ]
  },
  {
   "cell_type": "markdown",
   "metadata": {},
   "source": [
    "# 1. Define a function to read from a csv file using the pandas library and display the file data as output "
   ]
  },
  {
   "cell_type": "code",
   "execution_count": 30,
   "metadata": {},
   "outputs": [
    {
     "name": "stdout",
     "output_type": "stream",
     "text": [
      "['Roll Number', 'internal 1(25)', 'internal 2 (25)', 'external (75)', 'Avg(internal 1,internal 2)', 'total = Avg(internal 1+internal 2)', 'sub=(internal1-internal2)', 'mul=internal1*internal2', 'div=internal1/internal2', 'median ', 'mode ', 'logrithm of internal1', 'logrithm of internal2', 'minimum', 'maximum', 'percentage', 'class']\n",
      "['123456789', '16', '16', '55', '16', '71', '0', '256', '1', '16', '0', '1.204119983', '1.204119983', '16', '16', '71', '#ERROR!']\n",
      "['123456790', '14', '11', '57', '12.5', '69.5', '3', '154', '1.272727273', '12.5', '3', '1.146128036', '1.041392685', '11', '14', '69.5', '']\n",
      "['123456791', '14', '18', '53', '16', '69', '-4', '252', '0.7777777778', '16', '14', '1.146128036', '1.255272505', '14', '18', '69', '']\n",
      "['123456792', '18', '10', '55', '14', '69', '8', '180', '1.8', '14', '8', '1.255272505', '1', '10', '18', '69', '']\n",
      "['123456793', '18', '12', '46', '15', '61', '6', '216', '1.5', '15', '6', '1.255272505', '1.079181246', '12', '18', '61', '']\n",
      "['123456794', '15', '19', '45', '17', '62', '-4', '285', '0.7894736842', '17', '15', '1.176091259', '1.278753601', '15', '19', '62', '']\n",
      "['123456795', '19', '11', '56', '15', '71', '8', '209', '1.727272727', '15', '8', '1.278753601', '1.041392685', '11', '19', '71', '']\n",
      "['123456796', '20', '12', '55', '16', '71', '8', '240', '1.666666667', '16', '8', '1.301029996', '1.079181246', '12', '20', '71', '']\n",
      "['123456797', '17', '19', '47', '18', '65', '-2', '323', '0.8947368421', '18', '17', '1.230448921', '1.278753601', '17', '19', '65', '']\n",
      "['123456798', '19', '17', '59', '18', '77', '2', '323', '1.117647059', '18', '2', '1.278753601', '1.230448921', '17', '19', '77', '']\n",
      "['123456799', '20', '13', '55', '16.5', '71.5', '7', '260', '1.538461538', '16.5', '7', '1.301029996', '1.113943352', '13', '20', '71.5', '']\n",
      "['123456800', '14', '11', '55', '12.5', '67.5', '3', '154', '1.272727273', '12.5', '3', '1.146128036', '1.041392685', '11', '14', '67.5', '']\n",
      "['123456801', '16', '11', '47', '13.5', '60.5', '5', '176', '1.454545455', '13.5', '5', '1.204119983', '1.041392685', '11', '16', '60.5', '']\n",
      "['123456802', '16', '18', '59', '17', '76', '-2', '288', '0.8888888889', '17', '16', '1.204119983', '1.255272505', '16', '18', '76', '']\n",
      "['123456803', '20', '16', '50', '18', '68', '4', '320', '1.25', '18', '4', '1.301029996', '1.204119983', '16', '20', '68', '']\n",
      "['123456804', '17', '15', '42', '16', '58', '2', '255', '1.133333333', '16', '2', '1.230448921', '1.176091259', '15', '17', '58', '']\n",
      "['123456805', '17', '16', '52', '16.5', '68.5', '1', '272', '1.0625', '16.5', '1', '1.230448921', '1.204119983', '16', '17', '68.5', '']\n",
      "['123456806', '15', '17', '55', '16', '71', '-2', '255', '0.8823529412', '16', '15', '1.176091259', '1.230448921', '15', '17', '71', '']\n",
      "['123456807', '16', '20', '49', '18', '67', '-4', '320', '0.8', '18', '16', '1.204119983', '1.301029996', '16', '20', '67', '']\n",
      "['', '', '', '', 'TOTAL AVERAGE', '68.07894737', '', '', '', '', '', '', '', '', '', '', '']\n",
      "['', '', '', '', '', '', '', '', '', '', '', '', '', '', '', '', '']\n",
      "['', '', '', '', '', '', '', '', '', '', '', '', '', '', '', '', '']\n",
      "['', '', '', '', '', '', '', '', '', '', '', '', '', '', '', '', '']\n",
      "['', '', '', '', '', '', '', '', '', '', '', '', '', '', '', '', '']\n",
      "['', '', '', '', '', '', '', '', '', '', '', '', '', '', '', '', '']\n",
      "['', '', '', '', '', '', '', '', '', '', '', '', '', '', '', '', '']\n",
      "['', '', '', '', 'max percentage', '77', '', '', '', '', '', '', '', '', '', '', '']\n",
      "['', '', '', '', 'minimum percentage', '58', '', '', '', '', '', '', '', '', '', '', '']\n"
     ]
    }
   ],
   "source": [
    "import csv\n",
    "import pandas\n",
    "with open(r'C:\\Users\\user\\Downloads\\spreadsheet Operations.csv','r') as csv_file:\n",
    "    csv_reader= csv.reader(csv_file)\n",
    "    \n",
    "    for line in csv_reader:\n",
    "        print(line)"
   ]
  },
  {
   "cell_type": "markdown",
   "metadata": {},
   "source": [
    "# 2. Define a function to add new row data to a csv file "
   ]
  },
  {
   "cell_type": "code",
   "execution_count": null,
   "metadata": {},
   "outputs": [],
   "source": [
    "def AddRowData():\n",
    "    with open(r'C:\\Users\\user\\Downloads\\spreadsheet Operations.csv','r') as csv_file:\n",
    "    csv_reader= csv.reader(csv_file)\n",
    "    \n",
    "    for line in csv_reader:\n",
    "        print(line)\n",
    "    csv_file.append()"
   ]
  }
 ],
 "metadata": {
  "kernelspec": {
   "display_name": "Python 3",
   "language": "python",
   "name": "python3"
  },
  "language_info": {
   "codemirror_mode": {
    "name": "ipython",
    "version": 3
   },
   "file_extension": ".py",
   "mimetype": "text/x-python",
   "name": "python",
   "nbconvert_exporter": "python",
   "pygments_lexer": "ipython3",
   "version": "3.7.3"
  }
 },
 "nbformat": 4,
 "nbformat_minor": 2
}
